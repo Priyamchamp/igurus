{
  "cells": [
    {
      "cell_type": "code",
      "execution_count": null,
      "metadata": {
        "id": "aHPx8PeNKme9"
      },
      "outputs": [],
      "source": [
        "import os\n",
        "import h5py\n",
        "import numpy as np\n",
        "from keras.preprocessing.image import ImageDataGenerator\n",
        "from keras import optimizers\n",
        "from tensorflow.keras.models import Sequential\n",
        "from tensorflow.keras.layers import Convolution2D,MaxPooling2D,Activation, Dropout, Flatten, Dense, BatchNormalization, GlobalAveragePooling2D\n",
        "from keras.preprocessing import image"
      ]
    },
    {
      "cell_type": "code",
      "execution_count": null,
      "metadata": {
        "colab": {
          "base_uri": "https://localhost:8080/"
        },
        "id": "L0768Uo5qh5W",
        "outputId": "59a720bd-e12b-4183-9f04-cd728ee45be8"
      },
      "outputs": [
        {
          "output_type": "stream",
          "name": "stdout",
          "text": [
            "Mounted at /content/drive\n"
          ]
        }
      ],
      "source": [
        "from google.colab import drive\n",
        "drive.mount('/content/drive')"
      ]
    },
    {
      "cell_type": "code",
      "execution_count": null,
      "metadata": {
        "id": "WdNp5xd0K17o"
      },
      "outputs": [],
      "source": [
        "!unzip /content/drive/MyDrive/Datasets/DevanagariHandwrittenCharacterDataset_10_percent_train_100_percent_test.zip"
      ]
    },
    {
      "cell_type": "code",
      "source": [],
      "metadata": {
        "id": "0DjLl79xAPhe"
      },
      "execution_count": null,
      "outputs": []
    },
    {
      "cell_type": "code",
      "execution_count": null,
      "metadata": {
        "id": "UjrLTxP7E-Ep"
      },
      "outputs": [],
      "source": [
        "!unzip '/content/drive/MyDrive/Datasets/Khadi Dateset/Hindi-OCR-Merged.zip'"
      ]
    },
    {
      "cell_type": "code",
      "execution_count": null,
      "metadata": {
        "id": "fTpViRfEy43W"
      },
      "outputs": [],
      "source": [
        "!unzip '/content/drive/MyDrive/DataSets/Train_git.zip'"
      ]
    },
    {
      "cell_type": "code",
      "execution_count": null,
      "metadata": {
        "id": "23iJjcDyMvy2"
      },
      "outputs": [],
      "source": [
        "trainDataGen = ImageDataGenerator(\n",
        "\t\trotation_range = 10,\n",
        "\t\twidth_shift_range = 0.1,\n",
        "\t\theight_shift_range = 0.1,\n",
        "\t\trescale = 1.0/255,\n",
        "\t\tshear_range = 0.05,\n",
        "\t\tzoom_range = 0.1,\n",
        "\t\tbrightness_range=(0.9, 1.1),\n",
        "\t\thorizontal_flip = False,\n",
        "\t\tfill_mode = 'constant')"
      ]
    },
    {
      "cell_type": "code",
      "execution_count": null,
      "metadata": {
        "id": "zhoofw92NEwE"
      },
      "outputs": [],
      "source": [
        "test_datagen = ImageDataGenerator(rescale=1./255)"
      ]
    },
    {
      "cell_type": "code",
      "execution_count": null,
      "metadata": {
        "colab": {
          "base_uri": "https://localhost:8080/"
        },
        "id": "GC8it5l4NFdi",
        "outputId": "728db96c-ead7-4410-ef15-8ea15ca7e054"
      },
      "outputs": [
        {
          "output_type": "stream",
          "name": "stdout",
          "text": [
            "Found 78309 images belonging to 57 classes.\n"
          ]
        }
      ],
      "source": [
        "trainGenerator = trainDataGen.flow_from_directory(\n",
        "\t\t\t\"/content/content/Train_git\",\n",
        "\t\t\ttarget_size = (32,32),\n",
        "\t\t\tbatch_size = 32,\n",
        "\t\t\tcolor_mode = \"grayscale\",\n",
        "\t\t\tclass_mode = \"categorical\")"
      ]
    },
    {
      "cell_type": "code",
      "execution_count": null,
      "metadata": {
        "colab": {
          "base_uri": "https://localhost:8080/"
        },
        "id": "_fYHC2paNZ-8",
        "outputId": "11b037d4-5f7e-450e-8cc3-b88123e969d2"
      },
      "outputs": [
        {
          "output_type": "stream",
          "name": "stdout",
          "text": [
            "Found 13909 images belonging to 57 classes.\n"
          ]
        }
      ],
      "source": [
        "validation_generator = test_datagen.flow_from_directory(\n",
        "\t\t\t\"/content/content/Test_git\",\n",
        "\t\t\ttarget_size=(32,32),\n",
        "\t\t\tbatch_size=32,\n",
        "\t\t\tcolor_mode = \"grayscale\",\n",
        "\t\t\tclass_mode= 'categorical')\n"
      ]
    },
    {
      "cell_type": "markdown",
      "metadata": {
        "id": "u8d909dPOSVM"
      },
      "source": [
        "# Model v0 (97%)\n"
      ]
    },
    {
      "cell_type": "code",
      "execution_count": null,
      "metadata": {
        "id": "zg5vEMnIOBzB"
      },
      "outputs": [],
      "source": [
        "model = Sequential()\n",
        "#  ----------------------------------------\n",
        "model.add(Convolution2D(filters = 32,\n",
        "\t\t\tkernel_size = (3,3),\n",
        "\t\t\tstrides = 1,\n",
        "\t\t\tactivation = \"relu\",\n",
        "\t\t\tinput_shape = (32,32,1)))\n",
        "\n",
        "model.add(BatchNormalization())\n",
        "#model.add(Dropout(0.25))\n",
        "model.add(MaxPooling2D(pool_size=(2, 2),\n",
        "\t\t\tstrides=(2, 2),\n",
        "\t\t\tpadding=\"same\"))\n",
        "\n",
        "#  ----------------------------------------\n",
        "model.add(Convolution2D(filters = 32,\n",
        "\t\t\tkernel_size = (3,3),\n",
        "\t\t\tstrides = 1,\n",
        "\t\t\tactivation = \"relu\",\n",
        "\t\t\tinput_shape = (32,32,1)))\n",
        "model.add(BatchNormalization())\n",
        "model.add(MaxPooling2D(pool_size=(2, 2),\n",
        "\t\t\tstrides=(2, 2),\n",
        "\t\t\tpadding=\"same\"))\n",
        "#model.add(Dropout(0.25))\n",
        "\n",
        "#  ----------------------------------------\n",
        "model.add(Convolution2D(filters = 64,\n",
        "\t\t\tkernel_size = (3,3),\n",
        "\t\t\tstrides = 1,\n",
        "\t\t\tactivation = \"relu\"))\n",
        "model.add(BatchNormalization())\n",
        "model.add(MaxPooling2D(pool_size=(2, 2),\n",
        "\t\t\tstrides=(2, 2),\n",
        "\t\t\tpadding=\"same\"))\n",
        "\n",
        "#  ----------------------------------------\n",
        "model.add(Convolution2D(filters = 64,\n",
        "\t\t\tkernel_size = (3,3),\n",
        "\t\t\tstrides= 1,\n",
        "\t\t\tactivation = \"relu\"))\n",
        "model.add(BatchNormalization())\n",
        "model.add(MaxPooling2D(pool_size=(2, 2),\n",
        "\t\t\tstrides=(2, 2),\n",
        "\t\t\tpadding=\"same\"))\n",
        "\n",
        "#model.add(Dropout(0.2))\n",
        "#  ----------------------------------------\n",
        "\n",
        "model.add(Flatten())\n",
        "\n",
        "model.add(Dense(128,\n",
        "\t\tactivation = \"relu\",\n",
        "\t\tkernel_initializer = \"uniform\"))\n",
        "model.add(BatchNormalization())\n",
        "\n",
        "model.add(Dense(64,\n",
        "\t\tactivation = \"relu\",\n",
        "\t\tkernel_initializer = \"uniform\"))\n",
        "model.add(BatchNormalization())\n",
        "\n",
        "model.add(Dense(46,\n",
        "\t\tactivation = \"softmax\",\n",
        "\t\tkernel_initializer = \"uniform\"))\n",
        "\n",
        "model.compile(optimizer = \"adam\",\n",
        "\t\tloss = \"categorical_crossentropy\",\n",
        "\t\tmetrics = [\"accuracy\"])\n",
        "\n",
        "print(model.summary())\n",
        "\n"
      ]
    },
    {
      "cell_type": "markdown",
      "metadata": {
        "id": "0aFnrWjhDpiK"
      },
      "source": [
        "# ResNet Model"
      ]
    },
    {
      "cell_type": "code",
      "execution_count": null,
      "metadata": {
        "id": "FiZ-6ic-DvXJ"
      },
      "outputs": [],
      "source": [
        "from tensorflow.keras.applications import ResNet50, EfficientNetB0, VGG16\n",
        "\n",
        "resnet = ResNet50(\n",
        "    include_top=False,\n",
        "    weights=None,\n",
        "    input_tensor=None,\n",
        "    input_shape=(32,32,1),\n",
        "    pooling='avg',\n",
        "    classes=46,\n",
        ")\n",
        "for layer in resnet.layers:\n",
        "  layer.trainable=True\n",
        "\n",
        "model = Sequential()\n",
        "\n",
        "model.add(resnet)\n",
        "\n",
        "model.add(Flatten())\n",
        "\n",
        "model.add(Dense(128,\n",
        "\t\tactivation = \"relu\",\n",
        "\t\tkernel_initializer = \"uniform\"))\n",
        "model.add(BatchNormalization())\n",
        "\n",
        "model.add(Dense(64,\n",
        "\t\tactivation = \"relu\",\n",
        "\t\tkernel_initializer = \"uniform\"))\n",
        "model.add(BatchNormalization())\n",
        "\n",
        "model.add(Dense(387,\n",
        "\t\tactivation = \"softmax\",\n",
        "\t\tkernel_initializer = \"uniform\"))\n",
        "\n",
        "model.compile(optimizer = \"adam\",\n",
        "\t\tloss = \"categorical_crossentropy\",\n",
        "\t\tmetrics = [\"accuracy\"])\n",
        "\n",
        "print(model.summary())"
      ]
    },
    {
      "cell_type": "markdown",
      "metadata": {
        "id": "EnaVFnBcUcQo"
      },
      "source": [
        "# Research Paper"
      ]
    },
    {
      "cell_type": "code",
      "execution_count": null,
      "metadata": {
        "colab": {
          "base_uri": "https://localhost:8080/"
        },
        "id": "3XS9DIMFTJlT",
        "outputId": "1a0e2c2e-a870-45cc-e8c5-32a0a1aa2e6f"
      },
      "outputs": [
        {
          "output_type": "stream",
          "name": "stdout",
          "text": [
            "Model: \"sequential\"\n",
            "_________________________________________________________________\n",
            " Layer (type)                Output Shape              Param #   \n",
            "=================================================================\n",
            " conv2d (Conv2D)             (None, 30, 30, 32)        320       \n",
            "                                                                 \n",
            " conv2d_1 (Conv2D)           (None, 28, 28, 32)        9248      \n",
            "                                                                 \n",
            " max_pooling2d (MaxPooling2  (None, 14, 14, 32)        0         \n",
            " D)                                                              \n",
            "                                                                 \n",
            " dropout (Dropout)           (None, 14, 14, 32)        0         \n",
            "                                                                 \n",
            " conv2d_2 (Conv2D)           (None, 12, 12, 64)        18496     \n",
            "                                                                 \n",
            " conv2d_3 (Conv2D)           (None, 10, 10, 64)        36928     \n",
            "                                                                 \n",
            " max_pooling2d_1 (MaxPoolin  (None, 5, 5, 64)          0         \n",
            " g2D)                                                            \n",
            "                                                                 \n",
            " dropout_1 (Dropout)         (None, 5, 5, 64)          0         \n",
            "                                                                 \n",
            " flatten (Flatten)           (None, 1600)              0         \n",
            "                                                                 \n",
            " dense (Dense)               (None, 256)               409856    \n",
            "                                                                 \n",
            " dropout_2 (Dropout)         (None, 256)               0         \n",
            "                                                                 \n",
            " dense_1 (Dense)             (None, 57)                14649     \n",
            "                                                                 \n",
            "=================================================================\n",
            "Total params: 489497 (1.87 MB)\n",
            "Trainable params: 489497 (1.87 MB)\n",
            "Non-trainable params: 0 (0.00 Byte)\n",
            "_________________________________________________________________\n"
          ]
        }
      ],
      "source": [
        "from keras.layers import Conv2D\n",
        "\n",
        "\n",
        "model = Sequential()\n",
        "\n",
        "model.add(Convolution2D(filters = 32,\n",
        "\t\t\tkernel_size = (3,3),\n",
        "\t\t\tstrides = 1,\n",
        "\t\t\tactivation = \"relu\",\n",
        "\t\t\tinput_shape = (32,32,1)))\n",
        "\n",
        "model.add(Convolution2D(filters = 32,\n",
        "\t\t\tkernel_size = (3,3),\n",
        "\t\t\tstrides = 1,\n",
        "\t\t\tactivation = \"relu\",\n",
        "\t\t\tinput_shape = (32,32,1)))\n",
        "\n",
        "model.add(MaxPooling2D(pool_size=(2, 2),\n",
        "\t\t\tstrides=(2, 2),\n",
        "\t\t\tpadding=\"same\"))\n",
        "\n",
        "model.add(Dropout(0.25))\n",
        "\n",
        "model.add(Convolution2D(filters = 64,\n",
        "\t\t\tkernel_size = (3,3),\n",
        "\t\t\tstrides = 1,\n",
        "\t\t\tactivation = \"relu\",\n",
        "\t\t\tinput_shape = (32,32,1)))\n",
        "\n",
        "model.add(Convolution2D(filters = 64,\n",
        "\t\t\tkernel_size = (3,3),\n",
        "\t\t\tstrides = 1,\n",
        "\t\t\tactivation = \"relu\",\n",
        "\t\t\tinput_shape = (32,32,1)))\n",
        "\n",
        "model.add(MaxPooling2D(pool_size=(2, 2),\n",
        "\t\t\tstrides=(2, 2),\n",
        "\t\t\tpadding=\"same\"))\n",
        "\n",
        "model.add(Dropout(0.25))\n",
        "\n",
        "model.add(Flatten())\n",
        "\n",
        "model.add(Dense(256, activation='relu'))\n",
        "\n",
        "model.add(Dropout(0.25))\n",
        "\n",
        "model.add(Dense(57, activation='softmax'))\n",
        "\n",
        "\n",
        "model.compile(optimizer = \"adam\",\n",
        "\t\tloss = \"categorical_crossentropy\",\n",
        "\t\tmetrics = [\"accuracy\"])\n",
        "\n",
        "model.summary()"
      ]
    },
    {
      "cell_type": "code",
      "execution_count": null,
      "metadata": {
        "id": "13DaoVJZPoHV"
      },
      "outputs": [],
      "source": []
    },
    {
      "cell_type": "code",
      "execution_count": null,
      "metadata": {
        "colab": {
          "base_uri": "https://localhost:8080/"
        },
        "id": "SMCjJQTZPayE",
        "outputId": "69e73645-c4d9-4932-89fa-0722c3d8a2da"
      },
      "outputs": [
        {
          "name": "stdout",
          "output_type": "stream",
          "text": [
            "Model: \"sequential\"\n",
            "_________________________________________________________________\n",
            " Layer (type)                Output Shape              Param #   \n",
            "=================================================================\n",
            " conv2d (Conv2D)             (None, 30, 30, 32)        320       \n",
            "                                                                 \n",
            " conv2d_1 (Conv2D)           (None, 28, 28, 32)        9248      \n",
            "                                                                 \n",
            " max_pooling2d (MaxPooling2  (None, 14, 14, 32)        0         \n",
            " D)                                                              \n",
            "                                                                 \n",
            " dropout (Dropout)           (None, 14, 14, 32)        0         \n",
            "                                                                 \n",
            " conv2d_2 (Conv2D)           (None, 12, 12, 64)        18496     \n",
            "                                                                 \n",
            " conv2d_3 (Conv2D)           (None, 10, 10, 64)        36928     \n",
            "                                                                 \n",
            " max_pooling2d_1 (MaxPoolin  (None, 5, 5, 64)          0         \n",
            " g2D)                                                            \n",
            "                                                                 \n",
            " dropout_1 (Dropout)         (None, 5, 5, 64)          0         \n",
            "                                                                 \n",
            " flatten (Flatten)           (None, 1600)              0         \n",
            "                                                                 \n",
            " dense (Dense)               (None, 256)               409856    \n",
            "                                                                 \n",
            " dropout_2 (Dropout)         (None, 256)               0         \n",
            "                                                                 \n",
            " dense_1 (Dense)             (None, 46)                11822     \n",
            "                                                                 \n",
            "=================================================================\n",
            "Total params: 486670 (1.86 MB)\n",
            "Trainable params: 486670 (1.86 MB)\n",
            "Non-trainable params: 0 (0.00 Byte)\n",
            "_________________________________________________________________\n"
          ]
        }
      ],
      "source": [
        "model.summary()"
      ]
    },
    {
      "cell_type": "code",
      "execution_count": null,
      "metadata": {
        "colab": {
          "background_save": true,
          "base_uri": "https://localhost:8080/"
        },
        "id": "a9c8LgyhPozG",
        "outputId": "49457490-65dc-47e4-c9a4-59e3a5496fcb"
      },
      "outputs": [
        {
          "name": "stdout",
          "output_type": "stream",
          "text": [
            "Epoch 1/40\n",
            "2448/2448 [==============================] - 302s 123ms/step - loss: 0.9606 - accuracy: 0.7263 - val_loss: 0.1831 - val_accuracy: 0.9500\n",
            "Epoch 2/40\n",
            "2448/2448 [==============================] - 297s 121ms/step - loss: 0.3581 - accuracy: 0.8903 - val_loss: 0.0952 - val_accuracy: 0.9712\n",
            "Epoch 3/40\n",
            "2448/2448 [==============================] - 297s 121ms/step - loss: 0.2656 - accuracy: 0.9185 - val_loss: 0.0747 - val_accuracy: 0.9773\n",
            "Epoch 4/40\n",
            "2448/2448 [==============================] - 290s 119ms/step - loss: 0.2242 - accuracy: 0.9300 - val_loss: 0.0619 - val_accuracy: 0.9797\n",
            "Epoch 5/40\n",
            "2448/2448 [==============================] - 289s 118ms/step - loss: 0.1919 - accuracy: 0.9396 - val_loss: 0.0535 - val_accuracy: 0.9828\n",
            "Epoch 6/40\n",
            "2448/2448 [==============================] - 289s 118ms/step - loss: 0.1758 - accuracy: 0.9448 - val_loss: 0.0459 - val_accuracy: 0.9852\n",
            "Epoch 7/40\n",
            "2448/2448 [==============================] - 295s 121ms/step - loss: 0.1594 - accuracy: 0.9509 - val_loss: 0.0454 - val_accuracy: 0.9862\n",
            "Epoch 8/40\n",
            "2448/2448 [==============================] - 297s 121ms/step - loss: 0.1474 - accuracy: 0.9546 - val_loss: 0.0408 - val_accuracy: 0.9872\n",
            "Epoch 9/40\n",
            "2448/2448 [==============================] - 289s 118ms/step - loss: 0.1394 - accuracy: 0.9563 - val_loss: 0.0374 - val_accuracy: 0.9879\n",
            "Epoch 10/40\n",
            "2448/2448 [==============================] - 297s 121ms/step - loss: 0.1365 - accuracy: 0.9575 - val_loss: 0.0391 - val_accuracy: 0.9887\n",
            "Epoch 11/40\n",
            "2448/2448 [==============================] - 288s 118ms/step - loss: 0.1230 - accuracy: 0.9619 - val_loss: 0.0377 - val_accuracy: 0.9881\n",
            "Epoch 12/40\n",
            "1743/2448 [====================>.........] - ETA: 1:19 - loss: 0.1235 - accuracy: 0.9623"
          ]
        }
      ],
      "source": [
        "\n",
        "res = model.fit(\n",
        "\t\ttrainGenerator,\n",
        "\t\tepochs = 40,\n",
        "\t\tvalidation_data = validation_generator,\n",
        "\t\t)"
      ]
    },
    {
      "cell_type": "markdown",
      "metadata": {
        "id": "AAJVDa-r6Rgf"
      },
      "source": [
        "# GitHub"
      ]
    },
    {
      "cell_type": "code",
      "execution_count": null,
      "metadata": {
        "colab": {
          "base_uri": "https://localhost:8080/"
        },
        "id": "zoQjwEei6VPX",
        "outputId": "b8c7120f-3dbe-4e5c-8c24-080caafe41cb"
      },
      "outputs": [
        {
          "name": "stdout",
          "output_type": "stream",
          "text": [
            "Model: \"sequential_3\"\n",
            "_________________________________________________________________\n",
            " Layer (type)                Output Shape              Param #   \n",
            "=================================================================\n",
            " conv2d_12 (Conv2D)          (None, 30, 30, 32)        320       \n",
            "                                                                 \n",
            " conv2d_13 (Conv2D)          (None, 28, 28, 32)        9248      \n",
            "                                                                 \n",
            " max_pooling2d_6 (MaxPoolin  (None, 14, 14, 32)        0         \n",
            " g2D)                                                            \n",
            "                                                                 \n",
            " dropout_9 (Dropout)         (None, 14, 14, 32)        0         \n",
            "                                                                 \n",
            " conv2d_14 (Conv2D)          (None, 12, 12, 64)        18496     \n",
            "                                                                 \n",
            " conv2d_15 (Conv2D)          (None, 10, 10, 64)        36928     \n",
            "                                                                 \n",
            " max_pooling2d_7 (MaxPoolin  (None, 5, 5, 64)          0         \n",
            " g2D)                                                            \n",
            "                                                                 \n",
            " dropout_10 (Dropout)        (None, 5, 5, 64)          0         \n",
            "                                                                 \n",
            " flatten_3 (Flatten)         (None, 1600)              0         \n",
            "                                                                 \n",
            " dense_6 (Dense)             (None, 256)               409856    \n",
            "                                                                 \n",
            " dropout_11 (Dropout)        (None, 256)               0         \n",
            "                                                                 \n",
            " dense_7 (Dense)             (None, 57)                14649     \n",
            "                                                                 \n",
            "=================================================================\n",
            "Total params: 489497 (1.87 MB)\n",
            "Trainable params: 489497 (1.87 MB)\n",
            "Non-trainable params: 0 (0.00 Byte)\n",
            "_________________________________________________________________\n"
          ]
        }
      ],
      "source": [
        "\n",
        "model = Sequential()\n",
        "\n",
        "#input size is 32 by 32 and filter is grayscale,\n",
        "#we want to get 32 filters so here 32 filters of size (3, 3) will be used which gives 32 filter maps\n",
        "model.add(Conv2D(32, (3, 3), activation = 'relu', input_shape = (32, 32, 1), data_format = 'channels_last'))\n",
        "model.add(Conv2D(32, (3, 3), activation='relu'))\n",
        "model.add(MaxPooling2D(pool_size=(2, 2)))\n",
        "model.add(Dropout(0.25))\n",
        "\n",
        "model.add(Conv2D(64, (3, 3), activation='relu'))\n",
        "model.add(Conv2D(64, (3, 3), activation='relu'))\n",
        "model.add(MaxPooling2D(pool_size=(2, 2)))\n",
        "model.add(Dropout(0.25))\n",
        "\n",
        "model.add(Flatten())\n",
        "model.add(Dense(256, activation='relu'))\n",
        "model.add(Dropout(0.5))\n",
        "model.add(Dense(57, activation='softmax'))\n",
        "\n",
        "model.summary()\n",
        "\n"
      ]
    },
    {
      "cell_type": "code",
      "execution_count": null,
      "metadata": {
        "id": "H0-OHsjvQ-FF"
      },
      "outputs": [],
      "source": [
        "import tensorflow as tf\n",
        "\n",
        "# Create the SGD optimizer with updated syntax\n",
        "optimizer = tf.keras.optimizers.SGD(\n",
        "    learning_rate=0.01,\n",
        "    momentum=0.9,\n",
        "    nesterov=True\n",
        ")\n",
        "\n",
        "# Compile the model, using the optimizer and other arguments directly\n",
        "model.compile(\n",
        "    loss='categorical_crossentropy',\n",
        "    optimizer=optimizer,\n",
        "    metrics=['accuracy']\n",
        ")\n"
      ]
    },
    {
      "cell_type": "code",
      "execution_count": null,
      "metadata": {
        "colab": {
          "base_uri": "https://localhost:8080/"
        },
        "id": "0Kg68-TH6dBB",
        "outputId": "874ff14f-06f6-4b66-d66b-de90e3939ba4"
      },
      "outputs": [
        {
          "output_type": "stream",
          "name": "stdout",
          "text": [
            "Epoch 1/50\n",
            "2448/2448 [==============================] - 91s 35ms/step - loss: 1.3619 - accuracy: 0.6191 - val_loss: 0.2519 - val_accuracy: 0.9315\n",
            "Epoch 2/50\n",
            "2448/2448 [==============================] - 84s 34ms/step - loss: 0.4690 - accuracy: 0.8569 - val_loss: 0.1514 - val_accuracy: 0.9590\n",
            "Epoch 3/50\n",
            "2448/2448 [==============================] - 84s 34ms/step - loss: 0.3359 - accuracy: 0.8963 - val_loss: 0.1123 - val_accuracy: 0.9682\n",
            "Epoch 4/50\n",
            "2448/2448 [==============================] - 85s 35ms/step - loss: 0.2700 - accuracy: 0.9183 - val_loss: 0.1012 - val_accuracy: 0.9693\n",
            "Epoch 5/50\n",
            "2448/2448 [==============================] - 86s 35ms/step - loss: 0.2279 - accuracy: 0.9296 - val_loss: 0.0620 - val_accuracy: 0.9804\n",
            "Epoch 6/50\n",
            "2448/2448 [==============================] - 86s 35ms/step - loss: 0.2059 - accuracy: 0.9353 - val_loss: 0.0514 - val_accuracy: 0.9843\n",
            "Epoch 7/50\n",
            "2448/2448 [==============================] - 100s 41ms/step - loss: 0.1873 - accuracy: 0.9428 - val_loss: 0.0476 - val_accuracy: 0.9841\n",
            "Epoch 8/50\n",
            "2448/2448 [==============================] - 85s 35ms/step - loss: 0.1760 - accuracy: 0.9468 - val_loss: 0.0528 - val_accuracy: 0.9840\n",
            "Epoch 9/50\n",
            "2448/2448 [==============================] - 83s 34ms/step - loss: 0.1584 - accuracy: 0.9501 - val_loss: 0.0381 - val_accuracy: 0.9873\n",
            "Epoch 10/50\n",
            "2448/2448 [==============================] - 88s 36ms/step - loss: 0.1497 - accuracy: 0.9536 - val_loss: 0.0388 - val_accuracy: 0.9876\n",
            "Epoch 11/50\n",
            "2448/2448 [==============================] - 84s 34ms/step - loss: 0.1441 - accuracy: 0.9549 - val_loss: 0.0408 - val_accuracy: 0.9874\n",
            "Epoch 12/50\n",
            "2448/2448 [==============================] - 83s 34ms/step - loss: 0.1373 - accuracy: 0.9571 - val_loss: 0.0389 - val_accuracy: 0.9890\n",
            "Epoch 13/50\n",
            "2448/2448 [==============================] - 84s 34ms/step - loss: 0.1349 - accuracy: 0.9585 - val_loss: 0.0419 - val_accuracy: 0.9878\n",
            "Epoch 14/50\n",
            "2448/2448 [==============================] - 84s 34ms/step - loss: 0.1265 - accuracy: 0.9615 - val_loss: 0.0369 - val_accuracy: 0.9871\n",
            "Epoch 15/50\n",
            "2448/2448 [==============================] - 83s 34ms/step - loss: 0.1244 - accuracy: 0.9617 - val_loss: 0.0332 - val_accuracy: 0.9886\n",
            "Epoch 16/50\n",
            "2448/2448 [==============================] - 83s 34ms/step - loss: 0.1205 - accuracy: 0.9626 - val_loss: 0.0352 - val_accuracy: 0.9891\n",
            "Epoch 17/50\n",
            "2448/2448 [==============================] - 84s 34ms/step - loss: 0.1144 - accuracy: 0.9650 - val_loss: 0.0312 - val_accuracy: 0.9889\n",
            "Epoch 18/50\n",
            "2448/2448 [==============================] - 83s 34ms/step - loss: 0.1115 - accuracy: 0.9663 - val_loss: 0.0293 - val_accuracy: 0.9912\n",
            "Epoch 19/50\n",
            "2448/2448 [==============================] - 84s 34ms/step - loss: 0.1069 - accuracy: 0.9667 - val_loss: 0.0305 - val_accuracy: 0.9907\n",
            "Epoch 20/50\n",
            "2448/2448 [==============================] - 88s 36ms/step - loss: 0.1050 - accuracy: 0.9673 - val_loss: 0.0324 - val_accuracy: 0.9900\n",
            "Epoch 21/50\n",
            "2448/2448 [==============================] - 84s 34ms/step - loss: 0.1053 - accuracy: 0.9675 - val_loss: 0.0311 - val_accuracy: 0.9903\n",
            "Epoch 22/50\n",
            "2448/2448 [==============================] - 83s 34ms/step - loss: 0.1025 - accuracy: 0.9680 - val_loss: 0.0281 - val_accuracy: 0.9915\n",
            "Epoch 23/50\n",
            "2448/2448 [==============================] - 84s 34ms/step - loss: 0.0971 - accuracy: 0.9693 - val_loss: 0.0288 - val_accuracy: 0.9909\n",
            "Epoch 24/50\n",
            "2448/2448 [==============================] - 83s 34ms/step - loss: 0.0995 - accuracy: 0.9692 - val_loss: 0.0284 - val_accuracy: 0.9914\n",
            "Epoch 25/50\n",
            "2448/2448 [==============================] - 82s 34ms/step - loss: 0.0988 - accuracy: 0.9697 - val_loss: 0.0287 - val_accuracy: 0.9909\n",
            "Epoch 26/50\n",
            "2448/2448 [==============================] - 82s 34ms/step - loss: 0.0937 - accuracy: 0.9699 - val_loss: 0.0312 - val_accuracy: 0.9909\n",
            "Epoch 27/50\n",
            "2448/2448 [==============================] - 82s 34ms/step - loss: 0.0923 - accuracy: 0.9707 - val_loss: 0.0305 - val_accuracy: 0.9907\n",
            "Epoch 28/50\n",
            "2448/2448 [==============================] - 83s 34ms/step - loss: 0.0911 - accuracy: 0.9717 - val_loss: 0.0288 - val_accuracy: 0.9905\n",
            "Epoch 29/50\n",
            "2448/2448 [==============================] - 82s 34ms/step - loss: 0.0917 - accuracy: 0.9720 - val_loss: 0.0291 - val_accuracy: 0.9903\n",
            "Epoch 30/50\n",
            "2448/2448 [==============================] - 85s 35ms/step - loss: 0.0891 - accuracy: 0.9727 - val_loss: 0.0270 - val_accuracy: 0.9919\n",
            "Epoch 31/50\n",
            "2448/2448 [==============================] - 90s 37ms/step - loss: 0.0893 - accuracy: 0.9726 - val_loss: 0.0259 - val_accuracy: 0.9917\n",
            "Epoch 32/50\n",
            "2448/2448 [==============================] - 85s 35ms/step - loss: 0.0877 - accuracy: 0.9725 - val_loss: 0.0262 - val_accuracy: 0.9923\n",
            "Epoch 33/50\n",
            "2448/2448 [==============================] - 87s 36ms/step - loss: 0.0837 - accuracy: 0.9737 - val_loss: 0.0285 - val_accuracy: 0.9917\n",
            "Epoch 34/50\n",
            "2448/2448 [==============================] - 91s 37ms/step - loss: 0.0855 - accuracy: 0.9737 - val_loss: 0.0250 - val_accuracy: 0.9925\n",
            "Epoch 35/50\n",
            "2448/2448 [==============================] - 86s 35ms/step - loss: 0.0839 - accuracy: 0.9744 - val_loss: 0.0269 - val_accuracy: 0.9920\n",
            "Epoch 36/50\n",
            "2448/2448 [==============================] - 86s 35ms/step - loss: 0.0844 - accuracy: 0.9738 - val_loss: 0.0287 - val_accuracy: 0.9911\n",
            "Epoch 37/50\n",
            "2448/2448 [==============================] - 85s 35ms/step - loss: 0.0823 - accuracy: 0.9741 - val_loss: 0.0287 - val_accuracy: 0.9919\n",
            "Epoch 38/50\n",
            "2448/2448 [==============================] - 85s 35ms/step - loss: 0.0815 - accuracy: 0.9746 - val_loss: 0.0281 - val_accuracy: 0.9912\n",
            "Epoch 39/50\n",
            "2448/2448 [==============================] - 85s 35ms/step - loss: 0.0834 - accuracy: 0.9742 - val_loss: 0.0268 - val_accuracy: 0.9930\n",
            "Epoch 40/50\n",
            "2448/2448 [==============================] - 86s 35ms/step - loss: 0.0810 - accuracy: 0.9744 - val_loss: 0.0270 - val_accuracy: 0.9919\n",
            "Epoch 41/50\n",
            "2448/2448 [==============================] - 84s 34ms/step - loss: 0.0774 - accuracy: 0.9760 - val_loss: 0.0246 - val_accuracy: 0.9931\n",
            "Epoch 42/50\n",
            "2448/2448 [==============================] - 83s 34ms/step - loss: 0.0780 - accuracy: 0.9762 - val_loss: 0.0249 - val_accuracy: 0.9934\n",
            "Epoch 43/50\n",
            "2448/2448 [==============================] - 83s 34ms/step - loss: 0.0797 - accuracy: 0.9752 - val_loss: 0.0264 - val_accuracy: 0.9922\n",
            "Epoch 44/50\n",
            "2448/2448 [==============================] - 84s 34ms/step - loss: 0.0819 - accuracy: 0.9751 - val_loss: 0.0264 - val_accuracy: 0.9924\n",
            "Epoch 45/50\n",
            "2448/2448 [==============================] - 83s 34ms/step - loss: 0.0760 - accuracy: 0.9764 - val_loss: 0.0252 - val_accuracy: 0.9933\n",
            "Epoch 46/50\n",
            "2448/2448 [==============================] - 84s 34ms/step - loss: 0.0736 - accuracy: 0.9770 - val_loss: 0.0268 - val_accuracy: 0.9923\n",
            "Epoch 47/50\n",
            "2448/2448 [==============================] - 87s 35ms/step - loss: 0.0772 - accuracy: 0.9760 - val_loss: 0.0257 - val_accuracy: 0.9927\n",
            "Epoch 48/50\n",
            "2448/2448 [==============================] - 86s 35ms/step - loss: 0.0768 - accuracy: 0.9763 - val_loss: 0.0240 - val_accuracy: 0.9927\n",
            "Epoch 49/50\n",
            "2448/2448 [==============================] - 85s 35ms/step - loss: 0.0762 - accuracy: 0.9764 - val_loss: 0.0247 - val_accuracy: 0.9931\n",
            "Epoch 50/50\n",
            "2448/2448 [==============================] - 85s 35ms/step - loss: 0.0754 - accuracy: 0.9766 - val_loss: 0.0254 - val_accuracy: 0.9920\n"
          ]
        }
      ],
      "source": [
        "res = model.fit(\n",
        "\t\ttrainGenerator,\n",
        "\t\tepochs = 50,\n",
        "\t\tvalidation_data = validation_generator,\n",
        "    batch_size = 32,\n",
        "    validation_split = 0.2,\n",
        "    shuffle = True\n",
        "\t\t)"
      ]
    },
    {
      "cell_type": "code",
      "execution_count": null,
      "metadata": {
        "colab": {
          "base_uri": "https://localhost:8080/",
          "height": 843
        },
        "id": "Tp7U3xyfQIAu",
        "outputId": "1f8679ec-94ac-448a-8371-33f1f44af34c"
      },
      "outputs": [
        {
          "output_type": "display_data",
          "data": {
            "text/plain": [
              "<Figure size 640x480 with 1 Axes>"
            ],
            "image/png": "[encoded data removed]"
          },
          "metadata": {}
        },
        {
          "output_type": "display_data",
          "data": {
            "text/plain": [
              "<Figure size 640x480 with 1 Axes>"
            ],
            "image/png": "[encoded data removed]"
          },
          "metadata": {}
        }
      ],
      "source": [
        "%matplotlib inline\n",
        "accu=res.history['accuracy']\n",
        "val_acc=res.history['val_accuracy']\n",
        "loss=res.history['loss']\n",
        "val_loss=res.history['val_loss']\n",
        "\n",
        "epochs=range(len(accu)) #No. of epochs\n",
        "\n",
        "import matplotlib.pyplot as plt\n",
        "plt.plot(epochs,accu,'r',label='Training Accuracy')\n",
        "plt.plot(epochs,val_acc,'g',label='Testing Accuracy')\n",
        "plt.legend()\n",
        "plt.figure()\n",
        "\n",
        "#Plot training and validation loss per epoch\n",
        "plt.plot(epochs,loss,'r',label='Training Loss')\n",
        "plt.plot(epochs,val_loss,'g',label='Testing Loss')\n",
        "plt.legend()\n",
        "plt.show()"
      ]
    },
    {
      "cell_type": "code",
      "execution_count": null,
      "metadata": {
        "colab": {
          "base_uri": "https://localhost:8080/"
        },
        "id": "RrBwpJfjRGJB",
        "outputId": "177da106-b32f-4b62-f867-aef6e650e8ea"
      },
      "outputs": [
        {
          "data": {
            "text/plain": [
              "0.924936056137085"
            ]
          },
          "execution_count": 24,
          "metadata": {},
          "output_type": "execute_result"
        }
      ],
      "source": [
        "max(res.history['accuracy'])"
      ]
    },
    {
      "cell_type": "code",
      "execution_count": null,
      "metadata": {
        "colab": {
          "base_uri": "https://localhost:8080/"
        },
        "id": "HkC2gAMWoj4N",
        "outputId": "c0e9072b-2489-417f-a901-b977edeca572"
      },
      "outputs": [
        {
          "output_type": "stream",
          "name": "stdout",
          "text": [
            "Folder Names: [' क', ' क्ष', ' ख', ' ग', ' घ', ' ङ', ' च', ' छ', ' ज', ' ज्ञ', ' झ', ' ञ', ' ट', ' ठ', ' ड', ' ढ', ' ण', ' त', ' त्र', ' थ', ' द', ' ध', ' प', ' ब', ' भ', ' म', ' य', ' र', ' ल', ' व', ' श', ' ष', ' स', ' ह', ' १', ' २', ' ३', ' ४', ' ५', ' ६', ' ७', ' ८', ' ९', 'कं', 'कः', 'का', 'कि', 'की', 'कु', 'कू', 'के', 'कै', 'को', 'कौ', 'न', 'फ', '०']\n"
          ]
        }
      ],
      "source": [
        "import os\n",
        "\n",
        "def get_folder_names(directory):\n",
        "    folder_names = []\n",
        "    for item in os.listdir(directory):\n",
        "        if os.path.isdir(os.path.join(directory, item)):\n",
        "            folder_names.append(item)\n",
        "    return folder_names\n",
        "\n",
        "# Specify the directory path\n",
        "directory_path = '/content/content/Test_git'\n",
        "\n",
        "# Get folder names\n",
        "folders_list = get_folder_names(directory_path)\n",
        "folders_list.sort()\n",
        "# Print the list of folder names\n",
        "print(\"Folder Names:\", folders_list)\n"
      ]
    },
    {
      "cell_type": "code",
      "execution_count": null,
      "metadata": {
        "colab": {
          "base_uri": "https://localhost:8080/"
        },
        "id": "-t9irUu3VGC-",
        "outputId": "2f66211b-6a9c-4fa6-90d8-37ef18e408e0"
      },
      "outputs": [
        {
          "output_type": "stream",
          "name": "stdout",
          "text": [
            "[' क', ' क्ष', ' ख', ' ग', ' घ', ' ङ', ' च', ' छ', ' ज', ' ज्ञ', ' झ', ' ञ', ' ट', ' ठ', ' ड', ' ढ', ' ण', ' त', ' त्र', ' थ', ' द', ' ध', ' प', ' ब', ' भ', ' म', ' य', ' र', ' ल', ' व', ' श', ' ष', ' स', ' ह', ' १', ' २', ' ३', ' ४', ' ५', ' ६', ' ७', ' ८', ' ९', 'कं', 'कः', 'का', 'कि', 'की', 'कु', 'कू', 'के', 'कै', 'को', 'कौ', 'न', 'फ', '०']\n",
            "1/1 [==============================] - 0s 309ms/step\n",
            "Predicted Labels: ['कं']\n"
          ]
        }
      ],
      "source": [
        "test_image_path = \"/content/content/Test_git/कं/pixil-frame-6.png\"\n",
        "# labels = ['अ', 'अं', 'अः', 'आ', 'इ', 'ई', 'उ', 'ऊ', 'ऋ', 'ए', 'ऐ', 'ओ', 'औ', 'क', 'कं', 'कः', 'का', 'कि', 'की', 'कु', 'कू', 'के', 'कै', 'को', 'कौ', 'क्ष', 'ख', 'खं', 'खः', 'खा', 'खि', 'खी', 'खु', 'खू', 'खे', 'खै', 'खो', 'खौ', 'ग', 'गं', 'गः', 'गा', 'गि', 'गी', 'गु', 'गू', 'गे', 'गै', 'गो', 'गौ', 'घ', 'घं', 'घः', 'घा', 'घि', 'घी', 'घु', 'घू', 'घे', 'घै', 'घो', 'ङ', 'च', 'चं', 'चः', 'चा', 'चि', 'ची', 'चु', 'चू', 'चे', 'चै', 'चो', 'चौ', 'छ', 'छं', 'छः', 'छा', 'छि', 'छी', 'छु', 'छू', 'छे', 'छै', 'छो', 'छौ', 'ज', 'जं', 'जः', 'जा', 'जि', 'जी', 'जु', 'जू', 'जे', 'जै', 'जो', 'जौ', 'ज्ञ', 'झ', 'झं', 'झः', 'झा', 'झि', 'झी', 'झु', 'झू', 'झे', 'झै', 'झो', 'झौ', 'ञ', 'ट', 'टं', 'टः', 'टा', 'टि', 'टी', 'टु', 'टू', 'टे', 'टै', 'टो', 'टौ', 'ठ', 'ठं', 'ठः', 'ठा', 'ठि', 'ठी', 'ठु', 'ठू', 'ठे', 'ठै', 'ठो', 'ठौ', 'ड', 'डं', 'डः', 'डा', 'डि', 'डी', 'डु', 'डू', 'डे', 'डै', 'डो', 'डौ', 'ढ', 'ढं', 'ढः', 'ढा', 'ढि', 'ढी', 'ढु', 'ढू', 'ढे', 'ढै', 'ढो', 'ढौ', 'ण', 'णं', 'णः', 'णा', 'णि', 'णी', 'णु', 'णू', 'णे', 'णै', 'णो', 'णौ', 'त', 'तं', 'तः', 'ता', 'ति', 'ती', 'तु', 'तू', 'ते', 'तै', 'तो', 'तौ', 'त्र', 'थ', 'थं', 'थः', 'था', 'थि', 'थी', 'थु', 'थू', 'थे', 'थै', 'थो', 'थौ', 'द', 'दं', 'दः', 'दा', 'दि', 'दी', 'दु', 'दू', 'दे', 'दै', 'दो', 'दौ', 'ध', 'धं', 'धः', 'धा', 'धि', 'धी', 'धु', 'धू', 'धे', 'धै', 'धो', 'धौ', 'न', 'नं', 'नः', 'ना', 'नि', 'नी', 'नु', 'नू', 'ने', 'नै', 'नो', 'नौ', 'प', 'पं', 'पः', 'पा', 'पि', 'पी', 'पु', 'पू', 'पे', 'पै', 'पो', 'पौ', 'फ', 'फं', 'फः', 'फा', 'फि', 'फी', 'फु', 'फू', 'फे', 'फै', 'फो', 'फौ', 'ब', 'बं', 'बः', 'बा', 'बि', 'बी', 'बु', 'बू', 'बे', 'बै', 'बो', 'बौ', 'भ', 'भं', 'भः', 'भा', 'भि', 'भी', 'भु', 'भू', 'भे', 'भै', 'भो', 'भौ', 'म', 'मं', 'मः', 'मा', 'मि', 'मी', 'मु', 'मू', 'मे', 'मै', 'मो', 'मौ', 'य', 'यं', 'यः', 'या', 'यि', 'यी', 'यु', 'यू', 'ये', 'यै', 'यो', 'यौ', 'र', 'रं', 'रः', 'रा', 'रि', 'री', 'रे', 'रै', 'रो', 'रौ', 'ल', 'लं', 'लः', 'ला', 'लि', 'ली', 'लु', 'लू', 'ले', 'लै', 'लो', 'लौ', 'व', 'वं', 'वः', 'वा', 'वि', 'वी', 'वु', 'वू', 'वे', 'वै', 'वो', 'वौ', 'श', 'शं', 'शः', 'शा', 'शि', 'शी', 'शु', 'शू', 'शे', 'शै', 'शो', 'शौ', 'ष', 'षं', 'षः', 'षा', 'षि', 'षी', 'षु', 'षू', 'षे', 'षै', 'षो', 'षौ', 'स', 'सं', 'सः', 'सा', 'सि', 'सी', 'सु', 'सू', 'से', 'सै', 'सो', 'सौ', 'ह', 'हं', 'हः', 'हा', 'हि', 'ही', 'हु', 'हू', 'हे', 'है', 'हो', 'हौ']\n",
        "\n",
        "# labels = [\"ka\",\"kha\",\"ga\",\"gha\",\"kna\",\"cha\",\"chha\",\"ja\",\"jha\",\"yna\",\"t`a\",\"t`ha\",\"d`a\",\"d`ha\",\"adna\",\"ta\",\"tha\",\"da\",\"dha\",\"na\",\"pa\",\"pha\",\"ba\",\"bha\",\"ma\",\"yaw\",\"ra\",\"la\",\"waw\",\"sha\",\"shat\",\"sa\",\"ha\",\"aksha\",\"tra\",\"gya\",\"0\",\"1\",\"2\",\"3\",\"4\",\"5\",\"6\",\"7\",\"8\",\"9\"]\n",
        "# characters = '०,क,ख,ग,घ,ङ,च,छ,ज,झ,ञ,ट,ठ,ड,ढ,ण,त,थ,द,ध,न,प,फ,ब,भ,म,य,र,ल,व,श,ष,स,ह,क्ष,त्र,ज्ञ,१,२,३,४,५,६,७,८,९'\n",
        "# labels = characters.split(',')\n",
        "labels = folders_list\n",
        "print(labels)\n",
        "\n",
        "# Load and preprocess the image\n",
        "img = image.load_img(test_image_path, target_size=(32, 32), color_mode=\"grayscale\")\n",
        "img_array = image.img_to_array(img)\n",
        "img_array = np.expand_dims(img_array, axis=0)\n",
        "img_array /= 255.0  # Rescale to match the training data preprocessing\n",
        "\n",
        "# Make predictions\n",
        "predictions = model.predict(img_array)\n",
        "\n",
        "# Decode predictions to get class labels\n",
        "predicted_labels = [labels[np.argmax(prediction)] for prediction in predictions]\n",
        "\n",
        "# Print the predicted labels\n",
        "print(\"Predicted Labels:\", predicted_labels)"
      ]
    },
    {
      "cell_type": "code",
      "execution_count": null,
      "metadata": {
        "colab": {
          "base_uri": "https://localhost:8080/"
        },
        "id": "5vLGqzt0WGyy",
        "outputId": "5d58dd9c-159d-46cd-ea88-980d939d536c"
      },
      "outputs": [
        {
          "data": {
            "text/plain": [
              "array([[2.70034495e-10, 9.92111206e-01, 1.93382113e-03, 1.22601472e-04,\n",
              "        2.72538932e-03, 1.91360968e-12, 8.73604108e-07, 1.53714430e-09,\n",
              "        3.02888895e-03, 1.26614352e-09, 2.17690364e-08, 1.24147705e-08,\n",
              "        1.04457749e-08, 6.42267142e-11, 1.23299822e-06, 3.52325374e-12,\n",
              "        8.68902866e-11, 7.69677158e-08, 6.94076016e-06, 6.07510708e-09,\n",
              "        4.65905287e-05, 4.08913614e-08, 4.33877309e-11, 3.45383500e-09,\n",
              "        3.00951513e-08, 1.91652416e-05, 4.79857842e-09, 1.41242120e-08,\n",
              "        1.71269582e-10, 9.77686751e-11, 6.24523011e-09, 2.10190410e-06,\n",
              "        3.81935905e-09, 2.82889157e-09, 3.19175375e-09, 3.96096648e-13,\n",
              "        3.45876316e-07, 5.27174495e-13, 1.74336581e-08, 1.80883113e-08,\n",
              "        5.47858114e-09, 3.58539709e-09, 2.66132116e-10, 4.92236474e-08,\n",
              "        2.87396915e-07, 8.02759246e-08]], dtype=float32)"
            ]
          },
          "execution_count": 92,
          "metadata": {},
          "output_type": "execute_result"
        }
      ],
      "source": [
        "predictions"
      ]
    },
    {
      "cell_type": "code",
      "execution_count": null,
      "metadata": {
        "colab": {
          "base_uri": "https://localhost:8080/"
        },
        "id": "p8dJg_aeWL7e",
        "outputId": "32c443de-8e5a-410f-a167-7ab8394306f8"
      },
      "outputs": [
        {
          "output_type": "stream",
          "name": "stderr",
          "text": [
            "/usr/local/lib/python3.10/dist-packages/keras/src/engine/training.py:3103: UserWarning: You are saving your model as an HDF5 file via `model.save()`. This file format is considered legacy. We recommend using instead the native Keras format, e.g. `model.save('my_model.keras')`.\n",
            "  saving_api.save_model(\n"
          ]
        }
      ],
      "source": [
        "model.save(\"cnn5_gitdata_research_arch_k12.h5\")"
      ]
    },
    {
      "cell_type": "code",
      "execution_count": null,
      "metadata": {
        "colab": {
          "base_uri": "https://localhost:8080/"
        },
        "id": "z7rpiLDCYcj7",
        "outputId": "5c561f02-452c-4430-a1cb-4a59f87d7bfa"
      },
      "outputs": [
        {
          "name": "stdout",
          "output_type": "stream",
          "text": [
            "432/432 [==============================] - 5s 11ms/step - loss: 0.0267 - accuracy: 0.9927\n"
          ]
        }
      ],
      "source": [
        "test_res = model.evaluate(validation_generator)"
      ]
    },
    {
      "cell_type": "code",
      "execution_count": null,
      "metadata": {
        "id": "__DsrVfnatZm"
      },
      "outputs": [],
      "source": [
        "from keras.models import load_model\n",
        "model = load_model('/content/cnn2.h5')"
      ]
    },
    {
      "cell_type": "code",
      "execution_count": null,
      "metadata": {
        "colab": {
          "base_uri": "https://localhost:8080/"
        },
        "id": "gqkmqdfDbIEw",
        "outputId": "7390e2d2-cc30-4896-c0f5-6ec24f6d6aa4"
      },
      "outputs": [
        {
          "output_type": "stream",
          "name": "stdout",
          "text": [
            "435/435 [==============================] - 5s 12ms/step - loss: 0.0254 - accuracy: 0.9920\n"
          ]
        }
      ],
      "source": [
        "test_res = model.evaluate(validation_generator)"
      ]
    },
    {
      "cell_type": "markdown",
      "metadata": {
        "id": "keSrOTELbNY1"
      },
      "source": [
        "Data Merging\n"
      ]
    },
    {
      "cell_type": "code",
      "execution_count": null,
      "metadata": {
        "id": "x4bNZ2d8_EFI",
        "colab": {
          "base_uri": "https://localhost:8080/"
        },
        "outputId": "9f09259e-3457-4810-a527-1f246c24fef6"
      },
      "outputs": [
        {
          "output_type": "stream",
          "name": "stdout",
          "text": [
            "Archive:  /content/drive/MyDrive/DataSets/ki.zip\n",
            "   creating: /content/content/Train_git/कौ/\n",
            " extracting: /content/content/Train_git/कौ/pixil-frame-4.png  \n",
            " extracting: /content/content/Train_git/कौ/pixil-frame-3.png  \n",
            " extracting: /content/content/Train_git/कौ/pixil-frame-9.png  \n",
            " extracting: /content/content/Train_git/कौ/pixil-frame-0.png  \n",
            " extracting: /content/content/Train_git/कौ/pixil-frame-8.png  \n",
            " extracting: /content/content/Train_git/कौ/pixil-frame-2.png  \n",
            " extracting: /content/content/Train_git/कौ/pixil-frame-1.png  \n",
            " extracting: /content/content/Train_git/कौ/pixil-frame-6.png  \n",
            " extracting: /content/content/Train_git/कौ/pixil-frame-7.png  \n",
            " extracting: /content/content/Train_git/कौ/pixil-frame-5.png  \n",
            "   creating: /content/content/Train_git/को/\n",
            " extracting: /content/content/Train_git/को/pixil-frame-4.png  \n",
            " extracting: /content/content/Train_git/को/pixil-frame-3.png  \n",
            " extracting: /content/content/Train_git/को/pixil-frame-9.png  \n",
            " extracting: /content/content/Train_git/को/pixil-frame-0.png  \n",
            " extracting: /content/content/Train_git/को/pixil-frame-8.png  \n",
            " extracting: /content/content/Train_git/को/pixil-frame-2.png  \n",
            " extracting: /content/content/Train_git/को/pixil-frame-1.png  \n",
            " extracting: /content/content/Train_git/को/pixil-frame-6.png  \n",
            " extracting: /content/content/Train_git/को/pixil-frame-7.png  \n",
            " extracting: /content/content/Train_git/को/pixil-frame-5.png  \n",
            "   creating: /content/content/Train_git/कै/\n",
            " extracting: /content/content/Train_git/कै/pixil-frame-4.png  \n",
            " extracting: /content/content/Train_git/कै/pixil-frame-3.png  \n",
            " extracting: /content/content/Train_git/कै/pixil-frame-9.png  \n",
            " extracting: /content/content/Train_git/कै/pixil-frame-0.png  \n",
            " extracting: /content/content/Train_git/कै/pixil-frame-8.png  \n",
            " extracting: /content/content/Train_git/कै/pixil-frame-2.png  \n",
            " extracting: /content/content/Train_git/कै/pixil-frame-1.png  \n",
            " extracting: /content/content/Train_git/कै/pixil-frame-6.png  \n",
            " extracting: /content/content/Train_git/कै/pixil-frame-7.png  \n",
            " extracting: /content/content/Train_git/कै/pixil-frame-5.png  \n",
            "   creating: /content/content/Train_git/के/\n",
            " extracting: /content/content/Train_git/के/pixil-frame-4.png  \n",
            " extracting: /content/content/Train_git/के/pixil-frame-3.png  \n",
            " extracting: /content/content/Train_git/के/pixil-frame-9.png  \n",
            " extracting: /content/content/Train_git/के/pixil-frame-0.png  \n",
            " extracting: /content/content/Train_git/के/pixil-frame-8.png  \n",
            " extracting: /content/content/Train_git/के/pixil-frame-2.png  \n",
            " extracting: /content/content/Train_git/के/pixil-frame-1.png  \n",
            " extracting: /content/content/Train_git/के/pixil-frame-6.png  \n",
            " extracting: /content/content/Train_git/के/pixil-frame-7.png  \n",
            " extracting: /content/content/Train_git/के/pixil-frame-5.png  \n",
            "   creating: /content/content/Train_git/कू/\n",
            " extracting: /content/content/Train_git/कू/pixil-frame-4.png  \n",
            " extracting: /content/content/Train_git/कू/pixil-frame-3.png  \n",
            " extracting: /content/content/Train_git/कू/pixil-frame-9.png  \n",
            " extracting: /content/content/Train_git/कू/pixil-frame-0.png  \n",
            " extracting: /content/content/Train_git/कू/pixil-frame-8.png  \n",
            " extracting: /content/content/Train_git/कू/pixil-frame-2.png  \n",
            " extracting: /content/content/Train_git/कू/pixil-frame-1.png  \n",
            " extracting: /content/content/Train_git/कू/pixil-frame-6.png  \n",
            " extracting: /content/content/Train_git/कू/pixil-frame-7.png  \n",
            " extracting: /content/content/Train_git/कू/pixil-frame-5.png  \n",
            "   creating: /content/content/Train_git/कु/\n",
            " extracting: /content/content/Train_git/कु/pixil-frame-4.png  \n",
            " extracting: /content/content/Train_git/कु/pixil-frame-3.png  \n",
            " extracting: /content/content/Train_git/कु/pixil-frame-9.png  \n",
            " extracting: /content/content/Train_git/कु/pixil-frame-0.png  \n",
            " extracting: /content/content/Train_git/कु/pixil-frame-8.png  \n",
            " extracting: /content/content/Train_git/कु/pixil-frame-2.png  \n",
            " extracting: /content/content/Train_git/कु/pixil-frame-1.png  \n",
            " extracting: /content/content/Train_git/कु/pixil-frame-6.png  \n",
            " extracting: /content/content/Train_git/कु/pixil-frame-7.png  \n",
            " extracting: /content/content/Train_git/कु/pixil-frame-5.png  \n",
            "   creating: /content/content/Train_git/की/\n",
            " extracting: /content/content/Train_git/की/pixil-frame-4.png  \n",
            " extracting: /content/content/Train_git/की/pixil-frame-3.png  \n",
            " extracting: /content/content/Train_git/की/pixil-frame-9.png  \n",
            " extracting: /content/content/Train_git/की/pixil-frame-0.png  \n",
            " extracting: /content/content/Train_git/की/pixil-frame-8.png  \n",
            " extracting: /content/content/Train_git/की/pixil-frame-2.png  \n",
            " extracting: /content/content/Train_git/की/pixil-frame-1.png  \n",
            " extracting: /content/content/Train_git/की/pixil-frame-6.png  \n",
            " extracting: /content/content/Train_git/की/pixil-frame-7.png  \n",
            " extracting: /content/content/Train_git/की/pixil-frame-5.png  \n",
            "   creating: /content/content/Train_git/कि/\n",
            " extracting: /content/content/Train_git/कि/pixil-frame-4.png  \n",
            " extracting: /content/content/Train_git/कि/pixil-frame-3.png  \n",
            " extracting: /content/content/Train_git/कि/pixil-frame-9.png  \n",
            " extracting: /content/content/Train_git/कि/pixil-frame-0.png  \n",
            " extracting: /content/content/Train_git/कि/pixil-frame-8.png  \n",
            " extracting: /content/content/Train_git/कि/pixil-frame-2.png  \n",
            " extracting: /content/content/Train_git/कि/pixil-frame-1.png  \n",
            " extracting: /content/content/Train_git/कि/pixil-frame-6.png  \n",
            " extracting: /content/content/Train_git/कि/pixil-frame-7.png  \n",
            " extracting: /content/content/Train_git/कि/pixil-frame-5.png  \n",
            "   creating: /content/content/Train_git/का/\n",
            " extracting: /content/content/Train_git/का/pixil-frame-4.png  \n",
            " extracting: /content/content/Train_git/का/pixil-frame-3.png  \n",
            " extracting: /content/content/Train_git/का/pixil-frame-9.png  \n",
            " extracting: /content/content/Train_git/का/pixil-frame-0.png  \n",
            " extracting: /content/content/Train_git/का/pixil-frame-8.png  \n",
            " extracting: /content/content/Train_git/का/pixil-frame-2.png  \n",
            " extracting: /content/content/Train_git/का/pixil-frame-1.png  \n",
            " extracting: /content/content/Train_git/का/pixil-frame-6.png  \n",
            " extracting: /content/content/Train_git/का/pixil-frame-7.png  \n",
            " extracting: /content/content/Train_git/का/pixil-frame-5.png  \n",
            "   creating: /content/content/Train_git/कः/\n",
            " extracting: /content/content/Train_git/कः/pixil-frame-4.png  \n",
            " extracting: /content/content/Train_git/कः/pixil-frame-3.png  \n",
            " extracting: /content/content/Train_git/कः/pixil-frame-9.png  \n",
            " extracting: /content/content/Train_git/कः/pixil-frame-0.png  \n",
            " extracting: /content/content/Train_git/कः/pixil-frame-8.png  \n",
            " extracting: /content/content/Train_git/कः/pixil-frame-2.png  \n",
            " extracting: /content/content/Train_git/कः/pixil-frame-1.png  \n",
            " extracting: /content/content/Train_git/कः/pixil-frame-6.png  \n",
            " extracting: /content/content/Train_git/कः/pixil-frame-7.png  \n",
            " extracting: /content/content/Train_git/कः/pixil-frame-5.png  \n",
            "   creating: /content/content/Train_git/कं/\n",
            " extracting: /content/content/Train_git/कं/pixil-frame-4.png  \n",
            " extracting: /content/content/Train_git/कं/pixil-frame-3.png  \n",
            " extracting: /content/content/Train_git/कं/pixil-frame-9.png  \n",
            " extracting: /content/content/Train_git/कं/pixil-frame-0.png  \n",
            " extracting: /content/content/Train_git/कं/pixil-frame-8.png  \n",
            " extracting: /content/content/Train_git/कं/pixil-frame-2.png  \n",
            " extracting: /content/content/Train_git/कं/pixil-frame-1.png  \n",
            " extracting: /content/content/Train_git/कं/pixil-frame-6.png  \n",
            " extracting: /content/content/Train_git/कं/pixil-frame-7.png  \n",
            " extracting: /content/content/Train_git/कं/pixil-frame-5.png  \n"
          ]
        }
      ],
      "source": [
        "!unzip /content/drive/MyDrive/DataSets/ki.zip -d /content/content/Train_git"
      ]
    },
    {
      "cell_type": "code",
      "execution_count": null,
      "metadata": {
        "id": "ed07G7fx_bf5",
        "colab": {
          "base_uri": "https://localhost:8080/"
        },
        "outputId": "1b8e3b75-75db-47d5-feb1-ecf2e8ce5d79"
      },
      "outputs": [
        {
          "output_type": "stream",
          "name": "stdout",
          "text": [
            "Archive:  /content/drive/MyDrive/DataSets/ki.zip\n",
            "   creating: /content/content/Test_git/कौ/\n",
            " extracting: /content/content/Test_git/कौ/pixil-frame-4.png  \n",
            " extracting: /content/content/Test_git/कौ/pixil-frame-3.png  \n",
            " extracting: /content/content/Test_git/कौ/pixil-frame-9.png  \n",
            " extracting: /content/content/Test_git/कौ/pixil-frame-0.png  \n",
            " extracting: /content/content/Test_git/कौ/pixil-frame-8.png  \n",
            " extracting: /content/content/Test_git/कौ/pixil-frame-2.png  \n",
            " extracting: /content/content/Test_git/कौ/pixil-frame-1.png  \n",
            " extracting: /content/content/Test_git/कौ/pixil-frame-6.png  \n",
            " extracting: /content/content/Test_git/कौ/pixil-frame-7.png  \n",
            " extracting: /content/content/Test_git/कौ/pixil-frame-5.png  \n",
            "   creating: /content/content/Test_git/को/\n",
            " extracting: /content/content/Test_git/को/pixil-frame-4.png  \n",
            " extracting: /content/content/Test_git/को/pixil-frame-3.png  \n",
            " extracting: /content/content/Test_git/को/pixil-frame-9.png  \n",
            " extracting: /content/content/Test_git/को/pixil-frame-0.png  \n",
            " extracting: /content/content/Test_git/को/pixil-frame-8.png  \n",
            " extracting: /content/content/Test_git/को/pixil-frame-2.png  \n",
            " extracting: /content/content/Test_git/को/pixil-frame-1.png  \n",
            " extracting: /content/content/Test_git/को/pixil-frame-6.png  \n",
            " extracting: /content/content/Test_git/को/pixil-frame-7.png  \n",
            " extracting: /content/content/Test_git/को/pixil-frame-5.png  \n",
            "   creating: /content/content/Test_git/कै/\n",
            " extracting: /content/content/Test_git/कै/pixil-frame-4.png  \n",
            " extracting: /content/content/Test_git/कै/pixil-frame-3.png  \n",
            " extracting: /content/content/Test_git/कै/pixil-frame-9.png  \n",
            " extracting: /content/content/Test_git/कै/pixil-frame-0.png  \n",
            " extracting: /content/content/Test_git/कै/pixil-frame-8.png  \n",
            " extracting: /content/content/Test_git/कै/pixil-frame-2.png  \n",
            " extracting: /content/content/Test_git/कै/pixil-frame-1.png  \n",
            " extracting: /content/content/Test_git/कै/pixil-frame-6.png  \n",
            " extracting: /content/content/Test_git/कै/pixil-frame-7.png  \n",
            " extracting: /content/content/Test_git/कै/pixil-frame-5.png  \n",
            "   creating: /content/content/Test_git/के/\n",
            " extracting: /content/content/Test_git/के/pixil-frame-4.png  \n",
            " extracting: /content/content/Test_git/के/pixil-frame-3.png  \n",
            " extracting: /content/content/Test_git/के/pixil-frame-9.png  \n",
            " extracting: /content/content/Test_git/के/pixil-frame-0.png  \n",
            " extracting: /content/content/Test_git/के/pixil-frame-8.png  \n",
            " extracting: /content/content/Test_git/के/pixil-frame-2.png  \n",
            " extracting: /content/content/Test_git/के/pixil-frame-1.png  \n",
            " extracting: /content/content/Test_git/के/pixil-frame-6.png  \n",
            " extracting: /content/content/Test_git/के/pixil-frame-7.png  \n",
            " extracting: /content/content/Test_git/के/pixil-frame-5.png  \n",
            "   creating: /content/content/Test_git/कू/\n",
            " extracting: /content/content/Test_git/कू/pixil-frame-4.png  \n",
            " extracting: /content/content/Test_git/कू/pixil-frame-3.png  \n",
            " extracting: /content/content/Test_git/कू/pixil-frame-9.png  \n",
            " extracting: /content/content/Test_git/कू/pixil-frame-0.png  \n",
            " extracting: /content/content/Test_git/कू/pixil-frame-8.png  \n",
            " extracting: /content/content/Test_git/कू/pixil-frame-2.png  \n",
            " extracting: /content/content/Test_git/कू/pixil-frame-1.png  \n",
            " extracting: /content/content/Test_git/कू/pixil-frame-6.png  \n",
            " extracting: /content/content/Test_git/कू/pixil-frame-7.png  \n",
            " extracting: /content/content/Test_git/कू/pixil-frame-5.png  \n",
            "   creating: /content/content/Test_git/कु/\n",
            " extracting: /content/content/Test_git/कु/pixil-frame-4.png  \n",
            " extracting: /content/content/Test_git/कु/pixil-frame-3.png  \n",
            " extracting: /content/content/Test_git/कु/pixil-frame-9.png  \n",
            " extracting: /content/content/Test_git/कु/pixil-frame-0.png  \n",
            " extracting: /content/content/Test_git/कु/pixil-frame-8.png  \n",
            " extracting: /content/content/Test_git/कु/pixil-frame-2.png  \n",
            " extracting: /content/content/Test_git/कु/pixil-frame-1.png  \n",
            " extracting: /content/content/Test_git/कु/pixil-frame-6.png  \n",
            " extracting: /content/content/Test_git/कु/pixil-frame-7.png  \n",
            " extracting: /content/content/Test_git/कु/pixil-frame-5.png  \n",
            "   creating: /content/content/Test_git/की/\n",
            " extracting: /content/content/Test_git/की/pixil-frame-4.png  \n",
            " extracting: /content/content/Test_git/की/pixil-frame-3.png  \n",
            " extracting: /content/content/Test_git/की/pixil-frame-9.png  \n",
            " extracting: /content/content/Test_git/की/pixil-frame-0.png  \n",
            " extracting: /content/content/Test_git/की/pixil-frame-8.png  \n",
            " extracting: /content/content/Test_git/की/pixil-frame-2.png  \n",
            " extracting: /content/content/Test_git/की/pixil-frame-1.png  \n",
            " extracting: /content/content/Test_git/की/pixil-frame-6.png  \n",
            " extracting: /content/content/Test_git/की/pixil-frame-7.png  \n",
            " extracting: /content/content/Test_git/की/pixil-frame-5.png  \n",
            "   creating: /content/content/Test_git/कि/\n",
            " extracting: /content/content/Test_git/कि/pixil-frame-4.png  \n",
            " extracting: /content/content/Test_git/कि/pixil-frame-3.png  \n",
            " extracting: /content/content/Test_git/कि/pixil-frame-9.png  \n",
            " extracting: /content/content/Test_git/कि/pixil-frame-0.png  \n",
            " extracting: /content/content/Test_git/कि/pixil-frame-8.png  \n",
            " extracting: /content/content/Test_git/कि/pixil-frame-2.png  \n",
            " extracting: /content/content/Test_git/कि/pixil-frame-1.png  \n",
            " extracting: /content/content/Test_git/कि/pixil-frame-6.png  \n",
            " extracting: /content/content/Test_git/कि/pixil-frame-7.png  \n",
            " extracting: /content/content/Test_git/कि/pixil-frame-5.png  \n",
            "   creating: /content/content/Test_git/का/\n",
            " extracting: /content/content/Test_git/का/pixil-frame-4.png  \n",
            " extracting: /content/content/Test_git/का/pixil-frame-3.png  \n",
            " extracting: /content/content/Test_git/का/pixil-frame-9.png  \n",
            " extracting: /content/content/Test_git/का/pixil-frame-0.png  \n",
            " extracting: /content/content/Test_git/का/pixil-frame-8.png  \n",
            " extracting: /content/content/Test_git/का/pixil-frame-2.png  \n",
            " extracting: /content/content/Test_git/का/pixil-frame-1.png  \n",
            " extracting: /content/content/Test_git/का/pixil-frame-6.png  \n",
            " extracting: /content/content/Test_git/का/pixil-frame-7.png  \n",
            " extracting: /content/content/Test_git/का/pixil-frame-5.png  \n",
            "   creating: /content/content/Test_git/कः/\n",
            " extracting: /content/content/Test_git/कः/pixil-frame-4.png  \n",
            " extracting: /content/content/Test_git/कः/pixil-frame-3.png  \n",
            " extracting: /content/content/Test_git/कः/pixil-frame-9.png  \n",
            " extracting: /content/content/Test_git/कः/pixil-frame-0.png  \n",
            " extracting: /content/content/Test_git/कः/pixil-frame-8.png  \n",
            " extracting: /content/content/Test_git/कः/pixil-frame-2.png  \n",
            " extracting: /content/content/Test_git/कः/pixil-frame-1.png  \n",
            " extracting: /content/content/Test_git/कः/pixil-frame-6.png  \n",
            " extracting: /content/content/Test_git/कः/pixil-frame-7.png  \n",
            " extracting: /content/content/Test_git/कः/pixil-frame-5.png  \n",
            "   creating: /content/content/Test_git/कं/\n",
            " extracting: /content/content/Test_git/कं/pixil-frame-4.png  \n",
            " extracting: /content/content/Test_git/कं/pixil-frame-3.png  \n",
            " extracting: /content/content/Test_git/कं/pixil-frame-9.png  \n",
            " extracting: /content/content/Test_git/कं/pixil-frame-0.png  \n",
            " extracting: /content/content/Test_git/कं/pixil-frame-8.png  \n",
            " extracting: /content/content/Test_git/कं/pixil-frame-2.png  \n",
            " extracting: /content/content/Test_git/कं/pixil-frame-1.png  \n",
            " extracting: /content/content/Test_git/कं/pixil-frame-6.png  \n",
            " extracting: /content/content/Test_git/कं/pixil-frame-7.png  \n",
            " extracting: /content/content/Test_git/कं/pixil-frame-5.png  \n"
          ]
        }
      ],
      "source": [
        "!unzip /content/drive/MyDrive/DataSets/ki.zip -d /content/content/Test_git"
      ]
    },
    {
      "cell_type": "code",
      "execution_count": null,
      "metadata": {
        "id": "HAA68Uab_llc"
      },
      "outputs": [],
      "source": []
    }
  ],
  "metadata": {
    "colab": {
      "provenance": []
    },
    "kernelspec": {
      "display_name": "Python 3",
      "name": "python3"
    },
    "language_info": {
      "name": "python"
    }
  },
  "nbformat": 4,
  "nbformat_minor": 0
}